{
 "cells": [
  {
   "cell_type": "code",
   "execution_count": null,
   "metadata": {},
   "outputs": [],
   "source": [
    "!pip install python-dotenv openai langchain langchain_openai"
   ]
  },
  {
   "cell_type": "code",
   "execution_count": 2,
   "metadata": {},
   "outputs": [
    {
     "data": {
      "text/plain": [
       "True"
      ]
     },
     "execution_count": 2,
     "metadata": {},
     "output_type": "execute_result"
    }
   ],
   "source": [
    "from dotenv import load_dotenv\n",
    "load_dotenv()"
   ]
  },
  {
   "cell_type": "code",
   "execution_count": 8,
   "metadata": {},
   "outputs": [
    {
     "name": "stdout",
     "output_type": "stream",
     "text": [
      "If you have tomatoes and beef on hand, a classic dish to make is Beef Tomato Stir-Fry. Here is a simple recipe for you:\n",
      "\n",
      "**Ingredients:**\n",
      "\n",
      "- 1 lb (450g) beef, thinly sliced (flank steak or sirloin works well)\n",
      "- 2-3 ripe tomatoes, cut into wedges or slices\n",
      "- 1 medium yellow onion, sliced\n",
      "- 2 cloves garlic, minced\n",
      "- 2 green onions, chopped (for garnish)\n",
      "- 1/2 teaspoon salt (or to taste)\n",
      "- 1/2 teaspoon ground black pepper\n",
      "- 1 tablespoon soy sauce\n",
      "- 1 tablespoon oyster sauce (optional)\n",
      "- 1 teaspoon sesame oil\n",
      "- 1 tablespoon vegetable oil\n",
      "- 1 tablespoon cornstarch mixed with 2 tablespoons water (for thickening)\n",
      "\n",
      "**Instructions:**\n",
      "\n",
      "1. Prepare the beef by slicing it thinly against the grain. Place the beef in a bowl and season it with a little salt, pepper, and 1 teaspoon of soy sauce. Add the cornstarch mixture and mix well. Let it marinate for about 15-20 minutes.\n",
      "\n",
      "2. Heat the vegetable oil in a large frying pan or wok over high heat. Once the oil is hot, add the beef in batches, ensuring not to overcrowd the pan. Stir-fry the beef until it changes color and is just cooked through, about 1-2 minutes per batch. Remove the beef from the pan and set aside.\n",
      "\n",
      "3. In the same pan, add a bit more oil if needed, and sauté the sliced onion until translucent. Add the minced garlic and stir for about 30 seconds until fragrant.\n",
      "\n",
      "4. Add the tomatoes to the pan and cook for a couple of minutes until they start to soften. Pour in the remaining soy sauce, oyster sauce (if using), and sesame oil. Stir to combine.\n",
      "\n",
      "5. Return the beef to the pan and toss\n"
     ]
    }
   ],
   "source": [
    "from openai import OpenAI\n",
    "client = OpenAI(\n",
    "    base_url = \"https://open.bigmodel.cn/api/paas/v4/\"\n",
    ")\n",
    "\n",
    "completion = client.chat.completions.create(\n",
    "    model = \"glm-4\",\n",
    "    messages = [\n",
    "        {'role':'system', 'content': 'You are a recipe recommendation assistant, you need to recommend suitable dishes and give recipes based on the given food ingredients, which include every step of cooking.'},\n",
    "        {'role':'user', 'content': 'tomato, beef'}\n",
    "    ],\n",
    "    max_tokens = 400,\n",
    "    temperature = 0.7\n",
    ")\n",
    "print(completion.choices[0].message.content)"
   ]
  },
  {
   "cell_type": "code",
   "execution_count": null,
   "metadata": {},
   "outputs": [],
   "source": []
  }
 ],
 "metadata": {
  "kernelspec": {
   "display_name": "lc-dev",
   "language": "python",
   "name": "python3"
  },
  "language_info": {
   "codemirror_mode": {
    "name": "ipython",
    "version": 3
   },
   "file_extension": ".py",
   "mimetype": "text/x-python",
   "name": "python",
   "nbconvert_exporter": "python",
   "pygments_lexer": "ipython3",
   "version": "3.11.9"
  }
 },
 "nbformat": 4,
 "nbformat_minor": 2
}
