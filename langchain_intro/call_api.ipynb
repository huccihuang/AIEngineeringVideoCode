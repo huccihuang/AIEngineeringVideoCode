{
 "cells": [
  {
   "cell_type": "code",
   "execution_count": null,
   "metadata": {},
   "outputs": [],
   "source": [
    "!pip install python-dotenv openai langchain langchain_openai"
   ]
  },
  {
   "cell_type": "code",
   "execution_count": 1,
   "metadata": {},
   "outputs": [
    {
     "data": {
      "text/plain": [
       "True"
      ]
     },
     "execution_count": 1,
     "metadata": {},
     "output_type": "execute_result"
    }
   ],
   "source": [
    "from dotenv import load_dotenv\n",
    "load_dotenv()"
   ]
  },
  {
   "cell_type": "code",
   "execution_count": 2,
   "metadata": {},
   "outputs": [],
   "source": [
    "from openai import OpenAI\n",
    "client = OpenAI(\n",
    "    base_url = \"https://open.bigmodel.cn/api/paas/v4/\"\n",
    ")"
   ]
  },
  {
   "cell_type": "code",
   "execution_count": 6,
   "metadata": {},
   "outputs": [
    {
     "name": "stdout",
     "output_type": "stream",
     "text": [
      "当然可以。以下是一些可能帮助你抑制购买欲望的理由，特别是对于你想要购买的键盘：\n",
      "\n",
      "1. **现有设备仍可用**：如果你已经有一个键盘，并且它仍然能够正常工作，那么可能没有必要购买一个新的。现有的键盘可能已经满足你的需求。\n",
      "\n",
      "2. **预算考虑**：考虑你的财务状况和预算。如果购买新键盘会导致你的预算紧张，或者有更重要的事情需要用到这笔钱，那么可能应该推迟购买。\n",
      "\n",
      "3. **功能过剩**：新键盘可能有吸引人的功能，但如果这些功能并不是你迫切需要的，那么购买它可能会造成资源浪费。\n",
      "\n",
      "4. **环境因素**：电子产品的生产对环境有负面影响。如果你并不真的需要新键盘，那么减少消费也是对环境的一种贡献。\n",
      "\n",
      "5. **使用频率**：如果你并不经常使用键盘，比如只是偶尔需要打字，那么现有的键盘可能已经足够。\n",
      "\n",
      "6. **空间限制**：新键盘可能会占用你有限的空间，尤其是在你的工作或生活空间已经比较拥挤的情况下。\n",
      "\n",
      "7. **技术更新换代**：电子产品更新换代很快，如果你现在购买了新键盘，可能不久后就会有更先进的技术出现，让这次购买显得过时。\n",
      "\n",
      "8. **替代方案**：考虑是否有其他成本更低或免费的替代方案，比如使用手机或平板电脑的键盘功能。\n",
      "\n",
      "9. **冲动购物**：有时候，我们购买东西仅仅是因为一时冲动。给自己设定一个冷却期，过几天再决定是否真的需要这个键盘。\n",
      "\n",
      "10. **长期价值**：思考这个购买决定是否符合你的长期目标和价值观。如果它只是一个短期的满足，那么可能不值得购买。\n",
      "\n",
      "通过考虑这些理由，你可以更加理智地评估是否真的需要购买新键盘。记住，消费应该是基于需求和价值的，而不是仅仅因为想要而购买。\n"
     ]
    }
   ],
   "source": [
    "completion = client.chat.completions.create(\n",
    "    model = 'glm-4',\n",
    "    messages = [\n",
    "        {'role': 'system', 'content': \"你被用于抑制用户的购买欲望。当用户说想要买什么东西时，你需要提供理由让用户不要买。\"},\n",
    "        {'role': 'user', 'content': \"我正在考虑购买一个键盘，但我想抑制这个购买欲望。你能帮我列出一些理由，让我思考一下我是否真的需要这个商品吗？\"}\n",
    "    ],\n",
    "    max_tokens = 500,\n",
    "    temperature = 0.7\n",
    ")\n",
    "print(completion.choices[0].message.content)"
   ]
  },
  {
   "cell_type": "code",
   "execution_count": 7,
   "metadata": {},
   "outputs": [],
   "source": [
    "from langchain_openai import ChatOpenAI\n",
    "from langchain.prompts import ChatPromptTemplate"
   ]
  },
  {
   "cell_type": "code",
   "execution_count": 9,
   "metadata": {},
   "outputs": [
    {
     "data": {
      "text/plain": [
       "'System: 你被用于抑制用户的购买欲望。当用户说想要买什么东西时，你需要提供理由让用户不要买。\\nHuman: 我正在考虑购买一个显示器，但我想抑制这个购买欲望。你能帮我列出一些理由，让我思考一下我是否真的需要这个商品吗？'"
      ]
     },
     "execution_count": 9,
     "metadata": {},
     "output_type": "execute_result"
    }
   ],
   "source": [
    "prompt_template = ChatPromptTemplate.from_messages(\n",
    "    [\n",
    "        ('system', \"你被用于抑制用户的购买欲望。当用户说想要买什么东西时，你需要提供理由让用户不要买。\"),\n",
    "        ('human', \"我正在考虑购买一个{product}，但我想抑制这个购买欲望。你能帮我列出一些理由，让我思考一下我是否真的需要这个商品吗？\")\n",
    "    ]\n",
    ")\n",
    "prompt_template.format(product='显示器')"
   ]
  },
  {
   "cell_type": "code",
   "execution_count": 15,
   "metadata": {},
   "outputs": [],
   "source": [
    "model = ChatOpenAI(\n",
    "    model = 'glm-4',\n",
    "    openai_api_base = \"https://open.bigmodel.cn/api/paas/v4/\",\n",
    "    max_tokens = 500,\n",
    "    temperature = 0.7\n",
    ")"
   ]
  },
  {
   "cell_type": "code",
   "execution_count": 18,
   "metadata": {},
   "outputs": [],
   "source": [
    "def output_parser(output: str):\n",
    "    parser_model = ChatOpenAI(\n",
    "        model = 'glm-3-turbo',\n",
    "        temperature=0.8,\n",
    "        openai_api_base = \"https://open.bigmodel.cn/api/paas/v4/\"\n",
    "    )\n",
    "    message = \"你需要将传入的文本改写，尽可能更自然。这是你需要改写的文本:`{text}`\"\n",
    "    return parser_model.invoke(message.format(text=output))"
   ]
  },
  {
   "cell_type": "code",
   "execution_count": 19,
   "metadata": {},
   "outputs": [
    {
     "name": "stdout",
     "output_type": "stream",
     "text": [
      "没问题，以下是一些建议，帮助你控制购买新耳机的冲动：\n",
      "\n",
      "1. 你已有的耳机足以应对日常需求，新耳机尽管功能更多，但你的现有设备已经满足基本使用。\n",
      "2. 考虑一下你的财务状况，是否还有更紧要的开销需要优先处理？把这笔钱存起来或者投资可能更加明智。\n",
      "3. 你真的需要经常使用新耳机吗？如果只是偶尔用一下，购买它并不划算。\n",
      "4. 电子产品的生产对环境有一定影响。如果你不是特别需要新产品，减少消费有助于减少电子垃圾。\n",
      "5. 新耳机有很多吸引人的功能，但你可能并不需要这些功能。基本的耳机可能已经足够你使用。\n",
      "6. 你可能只是冲动想买新耳机，先等等看，如果过一段时间你仍然想要它，再考虑购买。\n",
      "7. 是否有更经济的替代方案？比如修理现有耳机，或者寻找性价比更高的产品。\n",
      "8. 考虑一下这笔开销对你长远的价值。有时候，投资于个人成长、健康或体验可能会带来更大的满足感。\n",
      "9. 你需要为新耳机腾出空间，同时考虑如何整理和储存它。\n",
      "10. 电子产品更新换代很快，你刚买的耳机可能很快就会被更新的型号取代。\n",
      "\n",
      "综合考虑以上因素，你可以更加理智地判断自己是否真的需要购买新耳机。\n"
     ]
    }
   ],
   "source": [
    "chain = prompt_template | model | output_parser\n",
    "answer = chain.invoke(input = {'product': '耳机'})\n",
    "print(answer.content)"
   ]
  }
 ],
 "metadata": {
  "kernelspec": {
   "display_name": "lc-dev",
   "language": "python",
   "name": "python3"
  },
  "language_info": {
   "codemirror_mode": {
    "name": "ipython",
    "version": 3
   },
   "file_extension": ".py",
   "mimetype": "text/x-python",
   "name": "python",
   "nbconvert_exporter": "python",
   "pygments_lexer": "ipython3",
   "version": "3.1.undefined"
  }
 },
 "nbformat": 4,
 "nbformat_minor": 2
}
